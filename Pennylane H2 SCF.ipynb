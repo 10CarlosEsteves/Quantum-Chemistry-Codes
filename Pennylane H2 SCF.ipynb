{
 "cells": [
  {
   "cell_type": "code",
   "execution_count": 181,
   "metadata": {},
   "outputs": [],
   "source": [
    "from pennylane import qchem\n",
    "from pennylane import numpy as np\n",
    "from sympy import Matrix"
   ]
  },
  {
   "cell_type": "markdown",
   "metadata": {},
   "source": [
    "# Configuring The Nuclear Coordinates With Internuclear Radius equal to 1.4, Minimal Basis Set STO-3G and Loading Data from Basis Set Exchange"
   ]
  },
  {
   "cell_type": "code",
   "execution_count": 182,
   "metadata": {},
   "outputs": [],
   "source": [
    "symbols  = ['H', 'H']\n",
    "coordinates = np.array([[0.0, 0.0, 0], [0.0, 0.0, 1.4]], requires_grad = False)\n",
    "H2_molecule = qchem.Molecule(symbols, coordinates, basis_name='STO-3G', load_data=True, unit='bohr')"
   ]
  },
  {
   "cell_type": "code",
   "execution_count": 183,
   "metadata": {},
   "outputs": [
    {
     "data": {
      "text/plain": [
       "[tensor([3.42525091, 0.62391373, 0.1688554 ], requires_grad=False),\n",
       " tensor([3.42525091, 0.62391373, 0.1688554 ], requires_grad=False)]"
      ]
     },
     "execution_count": 183,
     "metadata": {},
     "output_type": "execute_result"
    }
   ],
   "source": [
    "args = H2_molecule.alpha.copy()\n",
    "args"
   ]
  },
  {
   "cell_type": "markdown",
   "metadata": {},
   "source": [
    "# Calculating Overlap Matrix, Kinetic Matrix, Nuclear Attraction Matrix and Core Hamiltonian"
   ]
  },
  {
   "cell_type": "code",
   "execution_count": 184,
   "metadata": {},
   "outputs": [],
   "source": [
    "S = Matrix(qchem.overlap_matrix(H2_molecule.basis_set)(*args))\n",
    "T = Matrix(qchem.kinetic_matrix(H2_molecule.basis_set)(*args))\n",
    "V = Matrix(qchem.attraction_matrix(H2_molecule.basis_set, H2_molecule.nuclear_charges, H2_molecule.coordinates)(*args))\n",
    "H = Matrix(qchem.core_matrix(H2_molecule.basis_set, H2_molecule.nuclear_charges, H2_molecule.coordinates)(*args))"
   ]
  },
  {
   "cell_type": "code",
   "execution_count": null,
   "metadata": {},
   "outputs": [
    {
     "name": "stdout",
     "output_type": "stream",
     "text": [
      "1 - Overlap Matrix (S):\n"
     ]
    },
    {
     "data": {
      "text/latex": [
       "$\\displaystyle \\left[\\begin{matrix}1.0 & 0.65931820585089\\\\0.65931820585089 & 1.0\\end{matrix}\\right]$"
      ],
      "text/plain": [
       "Matrix([\n",
       "[             1.0, 0.65931820585089],\n",
       "[0.65931820585089,              1.0]])"
      ]
     },
     "metadata": {},
     "output_type": "display_data"
    },
    {
     "name": "stdout",
     "output_type": "stream",
     "text": [
      "2 - Kinetic-Energy Matrix (T):\n"
     ]
    },
    {
     "data": {
      "text/latex": [
       "$\\displaystyle \\left[\\begin{matrix}0.760031879975584 & 0.236454658290793\\\\0.236454658290793 & 0.760031879975584\\end{matrix}\\right]$"
      ],
      "text/plain": [
       "Matrix([\n",
       "[0.760031879975584, 0.236454658290793],\n",
       "[0.236454658290793, 0.760031879975584]])"
      ]
     },
     "metadata": {},
     "output_type": "display_data"
    },
    {
     "name": "stdout",
     "output_type": "stream",
     "text": [
      "3 - Nuclear Attraction Matrix (V):\n"
     ]
    },
    {
     "data": {
      "text/latex": [
       "$\\displaystyle \\left[\\begin{matrix}-1.88044089052278 & -1.19483462205357\\\\-1.19483462205357 & -1.88044089052278\\end{matrix}\\right]$"
      ],
      "text/plain": [
       "Matrix([\n",
       "[-1.88044089052278, -1.19483462205357],\n",
       "[-1.19483462205357, -1.88044089052278]])"
      ]
     },
     "metadata": {},
     "output_type": "display_data"
    },
    {
     "name": "stdout",
     "output_type": "stream",
     "text": [
      "4 - Core Hamiltonian Matrix (H = T + V):\n"
     ]
    },
    {
     "data": {
      "text/latex": [
       "$\\displaystyle \\left[\\begin{matrix}-1.12040901054719 & -0.958379963762777\\\\-0.958379963762777 & -1.12040901054719\\end{matrix}\\right]$"
      ],
      "text/plain": [
       "Matrix([\n",
       "[ -1.12040901054719, -0.958379963762777],\n",
       "[-0.958379963762777,  -1.12040901054719]])"
      ]
     },
     "metadata": {},
     "output_type": "display_data"
    }
   ],
   "source": [
    "print(\"1 - Overlap Matrix (S):\")\n",
    "display(S)\n",
    "\n",
    "print(\"2 - Kinetic-Energy Matrix (T):\")\n",
    "display(T)\n",
    "\n",
    "print(\"3 - Nuclear Attraction Matrix (V):\")\n",
    "display(V)\n",
    "\n",
    "print(\"4 - Core Hamiltonian Matrix (H = T + V):\")\n",
    "display(H)"
   ]
  },
  {
   "cell_type": "markdown",
   "metadata": {},
   "source": [
    "# Performing Restricted Hartree-Fock (RHF) with Pennylane in H2 molecule:"
   ]
  },
  {
   "cell_type": "markdown",
   "metadata": {},
   "source": [
    "$$FC = SCE$$"
   ]
  },
  {
   "cell_type": "code",
   "execution_count": 210,
   "metadata": {},
   "outputs": [
    {
     "name": "stdout",
     "output_type": "stream",
     "text": [
      "1 - Coefficient Matrix (C):\n"
     ]
    },
    {
     "data": {
      "text/latex": [
       "$\\displaystyle \\left[\\begin{matrix}-0.548934040446712 & -1.21146407303756\\\\-0.548934040446304 & 1.21146407303745\\end{matrix}\\right]$"
      ],
      "text/plain": [
       "Matrix([\n",
       "[-0.548934040446712, -1.21146407303756],\n",
       "[-0.548934040446304,  1.21146407303745]])"
      ]
     },
     "metadata": {},
     "output_type": "display_data"
    },
    {
     "name": "stdout",
     "output_type": "stream",
     "text": [
      "2 - Fock Matrix (F)\n"
     ]
    },
    {
     "data": {
      "text/latex": [
       "$\\displaystyle \\left[\\begin{matrix}-0.365537351430558 & -0.593885374732989\\\\-0.59388537473299 & -0.365537351430479\\end{matrix}\\right]$"
      ],
      "text/plain": [
       "Matrix([\n",
       "[-0.365537351430558, -0.593885374732989],\n",
       "[ -0.59388537473299, -0.365537351430479]])"
      ]
     },
     "metadata": {},
     "output_type": "display_data"
    },
    {
     "name": "stdout",
     "output_type": "stream",
     "text": [
      "[-0.57820298  0.67026776]\n"
     ]
    }
   ],
   "source": [
    "hf_eigenvalues, C, F, H, rep_tensor = qchem.scf(H2_molecule, n_steps=10, tol=1e-08)(*args)\n",
    "\n",
    "print(\"1 - Coefficient Matrix (C):\")\n",
    "display(Matrix(C))\n",
    "\n",
    "print(\"2 - Fock Matrix (F)\")\n",
    "display(Matrix(F))\n",
    "\n",
    "print(hf_eigenvalues)"
   ]
  },
  {
   "cell_type": "markdown",
   "metadata": {},
   "source": [
    "# Calculating the Ground State Energy for RHF, Nuclear Repulsion Constant and Total Energy"
   ]
  },
  {
   "cell_type": "markdown",
   "metadata": {},
   "source": [
    "Born-Oppenheimer Electronic Hamiltonian:\n",
    "$$ \n",
    "\\mathcal{H}_{\\mathrm{elec}} \n",
    "= - \\sum_{i=1}^N \\frac{1}{2}\\nabla_i^2\n",
    "  - \\sum_{i=1}^N \\sum_{A=1}^N \\frac{Z_A}{r_{iA}}\n",
    "  + \\sum_{i=1}^N \\sum_{j>i} \\frac{1}{r_{ij}}.\n",
    "$$"
   ]
  },
  {
   "cell_type": "markdown",
   "metadata": {},
   "source": [
    "Hartree-Fock Ground State:\n",
    "$$\\braket{\\psi_{HF}|H_{elec}|\\psi_{HF}}=E_0$$"
   ]
  },
  {
   "cell_type": "markdown",
   "metadata": {},
   "source": [
    "Total Energy (electronic + nuclear repulsion constant):\n",
    "$$E_{total}=E_0 + \\sum_{A=1}^M \\sum_{B>A}^M \\frac{Z_A \\, Z_B}{R_{AB}}$$"
   ]
  },
  {
   "cell_type": "code",
   "execution_count": 227,
   "metadata": {},
   "outputs": [
    {
     "name": "stdout",
     "output_type": "stream",
     "text": [
      "Hartree-Fock Ground State Energy: \n",
      "-1.8310 a.u\n",
      "\n",
      "Nuclear Repulsion Constant: \n",
      "0.7143 a.u\n",
      "\n",
      "Total Energy: \n",
      "-1.1167 a.u\n",
      "\n"
     ]
    }
   ],
   "source": [
    "E_total = qchem.hf_energy(H2_molecule)(*args)\n",
    "Nuclear_rep_energy = qchem.nuclear_energy(H2_molecule.nuclear_charges, H2_molecule.coordinates)(*args)[0]\n",
    "E_0 = E_total- Nuclear_rep_energy\n",
    "\n",
    "print(\"Hartree-Fock Ground State Energy: \")\n",
    "print(f\"{E_0:0.4f} a.u\\n\")\n",
    "\n",
    "print(\"Nuclear Repulsion Constant: \")\n",
    "print(f\"{Nuclear_rep_energy:0.4f} a.u\\n\")\n",
    "\n",
    "print(\"Total Energy: \")\n",
    "print(f\"{E_total:0.4f} a.u\\n\")"
   ]
  }
 ],
 "metadata": {
  "kernelspec": {
   "display_name": ".quanta",
   "language": "python",
   "name": "python3"
  },
  "language_info": {
   "codemirror_mode": {
    "name": "ipython",
    "version": 3
   },
   "file_extension": ".py",
   "mimetype": "text/x-python",
   "name": "python",
   "nbconvert_exporter": "python",
   "pygments_lexer": "ipython3",
   "version": "3.12.9"
  }
 },
 "nbformat": 4,
 "nbformat_minor": 2
}
